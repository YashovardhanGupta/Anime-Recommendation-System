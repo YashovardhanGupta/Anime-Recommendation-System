{
 "cells": [
  {
   "cell_type": "code",
   "execution_count": 41,
   "id": "c41189d3",
   "metadata": {
    "_cell_guid": "b1076dfc-b9ad-4769-8c92-a6c4dae69d19",
    "_uuid": "8f2839f25d086af736a60e9eeb907d3b93b6e0e5",
    "papermill": {
     "duration": 1.066753,
     "end_time": "2024-11-12T19:09:57.930175",
     "exception": false,
     "start_time": "2024-11-12T19:09:56.863422",
     "status": "completed"
    },
    "tags": []
   },
   "outputs": [],
   "source": [
    "import numpy as np \n",
    "import pandas as pd "
   ]
  },
  {
   "cell_type": "code",
   "execution_count": 2,
   "id": "83288c72",
   "metadata": {
    "papermill": {
     "duration": 0.738886,
     "end_time": "2024-11-12T19:09:58.681921",
     "exception": false,
     "start_time": "2024-11-12T19:09:57.943035",
     "status": "completed"
    },
    "tags": []
   },
   "outputs": [],
   "source": [
    "anime = pd.read_csv('Data/anime-dataset-2023.csv')"
   ]
  },
  {
   "cell_type": "code",
   "execution_count": 3,
   "id": "dadc1eb1",
   "metadata": {
    "papermill": {
     "duration": 0.058454,
     "end_time": "2024-11-12T19:09:58.754135",
     "exception": false,
     "start_time": "2024-11-12T19:09:58.695681",
     "status": "completed"
    },
    "tags": []
   },
   "outputs": [
    {
     "data": {
      "text/html": [
       "<div>\n",
       "<style scoped>\n",
       "    .dataframe tbody tr th:only-of-type {\n",
       "        vertical-align: middle;\n",
       "    }\n",
       "\n",
       "    .dataframe tbody tr th {\n",
       "        vertical-align: top;\n",
       "    }\n",
       "\n",
       "    .dataframe thead th {\n",
       "        text-align: right;\n",
       "    }\n",
       "</style>\n",
       "<table border=\"1\" class=\"dataframe\">\n",
       "  <thead>\n",
       "    <tr style=\"text-align: right;\">\n",
       "      <th></th>\n",
       "      <th>anime_id</th>\n",
       "      <th>Name</th>\n",
       "      <th>English name</th>\n",
       "      <th>Other name</th>\n",
       "      <th>Score</th>\n",
       "      <th>Genres</th>\n",
       "      <th>Synopsis</th>\n",
       "      <th>Type</th>\n",
       "      <th>Episodes</th>\n",
       "      <th>Aired</th>\n",
       "      <th>...</th>\n",
       "      <th>Studios</th>\n",
       "      <th>Source</th>\n",
       "      <th>Duration</th>\n",
       "      <th>Rating</th>\n",
       "      <th>Rank</th>\n",
       "      <th>Popularity</th>\n",
       "      <th>Favorites</th>\n",
       "      <th>Scored By</th>\n",
       "      <th>Members</th>\n",
       "      <th>Image URL</th>\n",
       "    </tr>\n",
       "  </thead>\n",
       "  <tbody>\n",
       "    <tr>\n",
       "      <th>0</th>\n",
       "      <td>1</td>\n",
       "      <td>Cowboy Bebop</td>\n",
       "      <td>Cowboy Bebop</td>\n",
       "      <td>カウボーイビバップ</td>\n",
       "      <td>8.75</td>\n",
       "      <td>Action, Award Winning, Sci-Fi</td>\n",
       "      <td>Crime is timeless. By the year 2071, humanity ...</td>\n",
       "      <td>TV</td>\n",
       "      <td>26.0</td>\n",
       "      <td>Apr 3, 1998 to Apr 24, 1999</td>\n",
       "      <td>...</td>\n",
       "      <td>Sunrise</td>\n",
       "      <td>Original</td>\n",
       "      <td>24 min per ep</td>\n",
       "      <td>R - 17+ (violence &amp; profanity)</td>\n",
       "      <td>41.0</td>\n",
       "      <td>43</td>\n",
       "      <td>78525</td>\n",
       "      <td>914193.0</td>\n",
       "      <td>1771505</td>\n",
       "      <td>https://cdn.myanimelist.net/images/anime/4/196...</td>\n",
       "    </tr>\n",
       "    <tr>\n",
       "      <th>1</th>\n",
       "      <td>5</td>\n",
       "      <td>Cowboy Bebop: Tengoku no Tobira</td>\n",
       "      <td>Cowboy Bebop: The Movie</td>\n",
       "      <td>カウボーイビバップ 天国の扉</td>\n",
       "      <td>8.38</td>\n",
       "      <td>Action, Sci-Fi</td>\n",
       "      <td>Another day, another bounty—such is the life o...</td>\n",
       "      <td>Movie</td>\n",
       "      <td>1.0</td>\n",
       "      <td>Sep 1, 2001</td>\n",
       "      <td>...</td>\n",
       "      <td>Bones</td>\n",
       "      <td>Original</td>\n",
       "      <td>1 hr 55 min</td>\n",
       "      <td>R - 17+ (violence &amp; profanity)</td>\n",
       "      <td>189.0</td>\n",
       "      <td>602</td>\n",
       "      <td>1448</td>\n",
       "      <td>206248.0</td>\n",
       "      <td>360978</td>\n",
       "      <td>https://cdn.myanimelist.net/images/anime/1439/...</td>\n",
       "    </tr>\n",
       "    <tr>\n",
       "      <th>2</th>\n",
       "      <td>6</td>\n",
       "      <td>Trigun</td>\n",
       "      <td>Trigun</td>\n",
       "      <td>トライガン</td>\n",
       "      <td>8.22</td>\n",
       "      <td>Action, Adventure, Sci-Fi</td>\n",
       "      <td>Vash the Stampede is the man with a $$60,000,0...</td>\n",
       "      <td>TV</td>\n",
       "      <td>26.0</td>\n",
       "      <td>Apr 1, 1998 to Sep 30, 1998</td>\n",
       "      <td>...</td>\n",
       "      <td>Madhouse</td>\n",
       "      <td>Manga</td>\n",
       "      <td>24 min per ep</td>\n",
       "      <td>PG-13 - Teens 13 or older</td>\n",
       "      <td>328.0</td>\n",
       "      <td>246</td>\n",
       "      <td>15035</td>\n",
       "      <td>356739.0</td>\n",
       "      <td>727252</td>\n",
       "      <td>https://cdn.myanimelist.net/images/anime/7/203...</td>\n",
       "    </tr>\n",
       "    <tr>\n",
       "      <th>3</th>\n",
       "      <td>7</td>\n",
       "      <td>Witch Hunter Robin</td>\n",
       "      <td>Witch Hunter Robin</td>\n",
       "      <td>Witch Hunter ROBIN (ウイッチハンターロビン)</td>\n",
       "      <td>7.25</td>\n",
       "      <td>Action, Drama, Mystery, Supernatural</td>\n",
       "      <td>Robin Sena is a powerful craft user drafted in...</td>\n",
       "      <td>TV</td>\n",
       "      <td>26.0</td>\n",
       "      <td>Jul 3, 2002 to Dec 25, 2002</td>\n",
       "      <td>...</td>\n",
       "      <td>Sunrise</td>\n",
       "      <td>Original</td>\n",
       "      <td>25 min per ep</td>\n",
       "      <td>PG-13 - Teens 13 or older</td>\n",
       "      <td>2764.0</td>\n",
       "      <td>1795</td>\n",
       "      <td>613</td>\n",
       "      <td>42829.0</td>\n",
       "      <td>111931</td>\n",
       "      <td>https://cdn.myanimelist.net/images/anime/10/19...</td>\n",
       "    </tr>\n",
       "    <tr>\n",
       "      <th>4</th>\n",
       "      <td>8</td>\n",
       "      <td>Bouken Ou Beet</td>\n",
       "      <td>Beet the Vandel Buster</td>\n",
       "      <td>冒険王ビィト</td>\n",
       "      <td>6.94</td>\n",
       "      <td>Adventure, Fantasy, Supernatural</td>\n",
       "      <td>It is the dark century and the people are suff...</td>\n",
       "      <td>TV</td>\n",
       "      <td>52.0</td>\n",
       "      <td>Sep 30, 2004 to Sep 29, 2005</td>\n",
       "      <td>...</td>\n",
       "      <td>Toei Animation</td>\n",
       "      <td>Manga</td>\n",
       "      <td>23 min per ep</td>\n",
       "      <td>PG - Children</td>\n",
       "      <td>4240.0</td>\n",
       "      <td>5126</td>\n",
       "      <td>14</td>\n",
       "      <td>6413.0</td>\n",
       "      <td>15001</td>\n",
       "      <td>https://cdn.myanimelist.net/images/anime/7/215...</td>\n",
       "    </tr>\n",
       "  </tbody>\n",
       "</table>\n",
       "<p>5 rows × 24 columns</p>\n",
       "</div>"
      ],
      "text/plain": [
       "   anime_id                             Name             English name  \\\n",
       "0         1                     Cowboy Bebop             Cowboy Bebop   \n",
       "1         5  Cowboy Bebop: Tengoku no Tobira  Cowboy Bebop: The Movie   \n",
       "2         6                           Trigun                   Trigun   \n",
       "3         7               Witch Hunter Robin       Witch Hunter Robin   \n",
       "4         8                   Bouken Ou Beet   Beet the Vandel Buster   \n",
       "\n",
       "                         Other name Score  \\\n",
       "0                         カウボーイビバップ  8.75   \n",
       "1                    カウボーイビバップ 天国の扉  8.38   \n",
       "2                             トライガン  8.22   \n",
       "3  Witch Hunter ROBIN (ウイッチハンターロビン)  7.25   \n",
       "4                            冒険王ビィト  6.94   \n",
       "\n",
       "                                 Genres  \\\n",
       "0         Action, Award Winning, Sci-Fi   \n",
       "1                        Action, Sci-Fi   \n",
       "2             Action, Adventure, Sci-Fi   \n",
       "3  Action, Drama, Mystery, Supernatural   \n",
       "4      Adventure, Fantasy, Supernatural   \n",
       "\n",
       "                                            Synopsis   Type Episodes  \\\n",
       "0  Crime is timeless. By the year 2071, humanity ...     TV     26.0   \n",
       "1  Another day, another bounty—such is the life o...  Movie      1.0   \n",
       "2  Vash the Stampede is the man with a $$60,000,0...     TV     26.0   \n",
       "3  Robin Sena is a powerful craft user drafted in...     TV     26.0   \n",
       "4  It is the dark century and the people are suff...     TV     52.0   \n",
       "\n",
       "                          Aired  ...         Studios    Source       Duration  \\\n",
       "0   Apr 3, 1998 to Apr 24, 1999  ...         Sunrise  Original  24 min per ep   \n",
       "1                   Sep 1, 2001  ...           Bones  Original    1 hr 55 min   \n",
       "2   Apr 1, 1998 to Sep 30, 1998  ...        Madhouse     Manga  24 min per ep   \n",
       "3   Jul 3, 2002 to Dec 25, 2002  ...         Sunrise  Original  25 min per ep   \n",
       "4  Sep 30, 2004 to Sep 29, 2005  ...  Toei Animation     Manga  23 min per ep   \n",
       "\n",
       "                           Rating    Rank Popularity Favorites Scored By  \\\n",
       "0  R - 17+ (violence & profanity)    41.0         43     78525  914193.0   \n",
       "1  R - 17+ (violence & profanity)   189.0        602      1448  206248.0   \n",
       "2       PG-13 - Teens 13 or older   328.0        246     15035  356739.0   \n",
       "3       PG-13 - Teens 13 or older  2764.0       1795       613   42829.0   \n",
       "4                   PG - Children  4240.0       5126        14    6413.0   \n",
       "\n",
       "   Members                                          Image URL  \n",
       "0  1771505  https://cdn.myanimelist.net/images/anime/4/196...  \n",
       "1   360978  https://cdn.myanimelist.net/images/anime/1439/...  \n",
       "2   727252  https://cdn.myanimelist.net/images/anime/7/203...  \n",
       "3   111931  https://cdn.myanimelist.net/images/anime/10/19...  \n",
       "4    15001  https://cdn.myanimelist.net/images/anime/7/215...  \n",
       "\n",
       "[5 rows x 24 columns]"
      ]
     },
     "execution_count": 3,
     "metadata": {},
     "output_type": "execute_result"
    }
   ],
   "source": [
    "anime.head()"
   ]
  },
  {
   "cell_type": "code",
   "execution_count": 4,
   "id": "dd3f6dee",
   "metadata": {
    "papermill": {
     "duration": 0.024738,
     "end_time": "2024-11-12T19:09:58.792042",
     "exception": false,
     "start_time": "2024-11-12T19:09:58.767304",
     "status": "completed"
    },
    "tags": []
   },
   "outputs": [
    {
     "data": {
      "text/plain": [
       "(24905, 24)"
      ]
     },
     "execution_count": 4,
     "metadata": {},
     "output_type": "execute_result"
    }
   ],
   "source": [
    "anime.shape"
   ]
  },
  {
   "cell_type": "code",
   "execution_count": 5,
   "id": "2b60a70b",
   "metadata": {
    "papermill": {
     "duration": 0.026206,
     "end_time": "2024-11-12T19:09:58.831868",
     "exception": false,
     "start_time": "2024-11-12T19:09:58.805662",
     "status": "completed"
    },
    "tags": []
   },
   "outputs": [],
   "source": [
    "anime = anime[['anime_id','Name','Synopsis','Genres','Type','Studios','Rating']]"
   ]
  },
  {
   "cell_type": "code",
   "execution_count": 6,
   "id": "7fac4fea",
   "metadata": {
    "papermill": {
     "duration": 0.043097,
     "end_time": "2024-11-12T19:09:58.888156",
     "exception": false,
     "start_time": "2024-11-12T19:09:58.845059",
     "status": "completed"
    },
    "tags": []
   },
   "outputs": [],
   "source": [
    "anime.dropna(inplace=True)"
   ]
  },
  {
   "cell_type": "code",
   "execution_count": 7,
   "id": "caea69eb",
   "metadata": {
    "papermill": {
     "duration": 0.037995,
     "end_time": "2024-11-12T19:09:58.939322",
     "exception": false,
     "start_time": "2024-11-12T19:09:58.901327",
     "status": "completed"
    },
    "tags": []
   },
   "outputs": [
    {
     "data": {
      "text/html": [
       "<div>\n",
       "<style scoped>\n",
       "    .dataframe tbody tr th:only-of-type {\n",
       "        vertical-align: middle;\n",
       "    }\n",
       "\n",
       "    .dataframe tbody tr th {\n",
       "        vertical-align: top;\n",
       "    }\n",
       "\n",
       "    .dataframe thead th {\n",
       "        text-align: right;\n",
       "    }\n",
       "</style>\n",
       "<table border=\"1\" class=\"dataframe\">\n",
       "  <thead>\n",
       "    <tr style=\"text-align: right;\">\n",
       "      <th></th>\n",
       "      <th>anime_id</th>\n",
       "      <th>Name</th>\n",
       "      <th>Synopsis</th>\n",
       "      <th>Genres</th>\n",
       "      <th>Type</th>\n",
       "      <th>Studios</th>\n",
       "      <th>Rating</th>\n",
       "    </tr>\n",
       "  </thead>\n",
       "  <tbody>\n",
       "    <tr>\n",
       "      <th>10874</th>\n",
       "      <td>31374</td>\n",
       "      <td>Shingeki! Kyojin Chuugakkou</td>\n",
       "      <td>On his first day of junior high, Eren Yeager c...</td>\n",
       "      <td>Comedy</td>\n",
       "      <td>TV</td>\n",
       "      <td>Production I.G</td>\n",
       "      <td>PG-13 - Teens 13 or older</td>\n",
       "    </tr>\n",
       "    <tr>\n",
       "      <th>1091</th>\n",
       "      <td>1196</td>\n",
       "      <td>Masuda Kousuke Gekijou Gag Manga Biyori</td>\n",
       "      <td>Gyagu Manga Biyori is an anime that is about a...</td>\n",
       "      <td>Comedy</td>\n",
       "      <td>TV</td>\n",
       "      <td>Artland</td>\n",
       "      <td>PG-13 - Teens 13 or older</td>\n",
       "    </tr>\n",
       "    <tr>\n",
       "      <th>22370</th>\n",
       "      <td>51575</td>\n",
       "      <td>Creating World (2020)</td>\n",
       "      <td>A new music video for AZKi's first original so...</td>\n",
       "      <td>UNKNOWN</td>\n",
       "      <td>Music</td>\n",
       "      <td>UNKNOWN</td>\n",
       "      <td>G - All Ages</td>\n",
       "    </tr>\n",
       "    <tr>\n",
       "      <th>17319</th>\n",
       "      <td>43270</td>\n",
       "      <td>Hong Se Xin Hao</td>\n",
       "      <td>No description available for this anime.</td>\n",
       "      <td>UNKNOWN</td>\n",
       "      <td>Movie</td>\n",
       "      <td>UNKNOWN</td>\n",
       "      <td>G - All Ages</td>\n",
       "    </tr>\n",
       "    <tr>\n",
       "      <th>14146</th>\n",
       "      <td>37402</td>\n",
       "      <td>No Game No Life: Zero - Manner Movie</td>\n",
       "      <td>Short theater manners animation shown before m...</td>\n",
       "      <td>Comedy</td>\n",
       "      <td>Movie</td>\n",
       "      <td>Studio PuYUKAI</td>\n",
       "      <td>G - All Ages</td>\n",
       "    </tr>\n",
       "    <tr>\n",
       "      <th>5183</th>\n",
       "      <td>7960</td>\n",
       "      <td>Pachislo Kizoku Gin</td>\n",
       "      <td>Ginya Otonashi is a college dropout who works ...</td>\n",
       "      <td>Action</td>\n",
       "      <td>TV</td>\n",
       "      <td>Studio Guts</td>\n",
       "      <td>UNKNOWN</td>\n",
       "    </tr>\n",
       "    <tr>\n",
       "      <th>20293</th>\n",
       "      <td>47590</td>\n",
       "      <td>Xiao Luobo Tou</td>\n",
       "      <td>No description available for this anime.</td>\n",
       "      <td>UNKNOWN</td>\n",
       "      <td>TV</td>\n",
       "      <td>UNKNOWN</td>\n",
       "      <td>PG - Children</td>\n",
       "    </tr>\n",
       "  </tbody>\n",
       "</table>\n",
       "</div>"
      ],
      "text/plain": [
       "       anime_id                                     Name  \\\n",
       "10874     31374              Shingeki! Kyojin Chuugakkou   \n",
       "1091       1196  Masuda Kousuke Gekijou Gag Manga Biyori   \n",
       "22370     51575                    Creating World (2020)   \n",
       "17319     43270                          Hong Se Xin Hao   \n",
       "14146     37402     No Game No Life: Zero - Manner Movie   \n",
       "5183       7960                      Pachislo Kizoku Gin   \n",
       "20293     47590                           Xiao Luobo Tou   \n",
       "\n",
       "                                                Synopsis   Genres   Type  \\\n",
       "10874  On his first day of junior high, Eren Yeager c...   Comedy     TV   \n",
       "1091   Gyagu Manga Biyori is an anime that is about a...   Comedy     TV   \n",
       "22370  A new music video for AZKi's first original so...  UNKNOWN  Music   \n",
       "17319           No description available for this anime.  UNKNOWN  Movie   \n",
       "14146  Short theater manners animation shown before m...   Comedy  Movie   \n",
       "5183   Ginya Otonashi is a college dropout who works ...   Action     TV   \n",
       "20293           No description available for this anime.  UNKNOWN     TV   \n",
       "\n",
       "              Studios                     Rating  \n",
       "10874  Production I.G  PG-13 - Teens 13 or older  \n",
       "1091          Artland  PG-13 - Teens 13 or older  \n",
       "22370         UNKNOWN               G - All Ages  \n",
       "17319         UNKNOWN               G - All Ages  \n",
       "14146  Studio PuYUKAI               G - All Ages  \n",
       "5183      Studio Guts                    UNKNOWN  \n",
       "20293         UNKNOWN              PG - Children  "
      ]
     },
     "execution_count": 7,
     "metadata": {},
     "output_type": "execute_result"
    }
   ],
   "source": [
    "#movies['overview'] = movies['overview'].apply(lambda x:x.s\n",
    "anime.sample(7)"
   ]
  },
  {
   "cell_type": "code",
   "execution_count": 8,
   "id": "8b2cfbb4",
   "metadata": {
    "papermill": {
     "duration": 0.023465,
     "end_time": "2024-11-12T19:09:58.976442",
     "exception": false,
     "start_time": "2024-11-12T19:09:58.952977",
     "status": "completed"
    },
    "tags": []
   },
   "outputs": [],
   "source": [
    "def string_to_list(text):\n",
    "    return [item.strip() for item in text.split(',')]"
   ]
  },
  {
   "cell_type": "code",
   "execution_count": 9,
   "id": "02b27eba",
   "metadata": {
    "papermill": {
     "duration": 0.230423,
     "end_time": "2024-11-12T19:09:59.220459",
     "exception": false,
     "start_time": "2024-11-12T19:09:58.990036",
     "status": "completed"
    },
    "tags": []
   },
   "outputs": [],
   "source": [
    "anime['Genres']=anime['Genres'].apply(string_to_list)\n",
    "anime['Type']=anime['Type'].apply(string_to_list)\n",
    "anime['Studios']=anime['Studios'].apply(string_to_list)\n",
    "anime['Rating']=anime['Rating'].apply(string_to_list)"
   ]
  },
  {
   "cell_type": "code",
   "execution_count": 10,
   "id": "b25967bf",
   "metadata": {
    "papermill": {
     "duration": 0.040193,
     "end_time": "2024-11-12T19:09:59.274276",
     "exception": false,
     "start_time": "2024-11-12T19:09:59.234083",
     "status": "completed"
    },
    "tags": []
   },
   "outputs": [
    {
     "data": {
      "text/html": [
       "<div>\n",
       "<style scoped>\n",
       "    .dataframe tbody tr th:only-of-type {\n",
       "        vertical-align: middle;\n",
       "    }\n",
       "\n",
       "    .dataframe tbody tr th {\n",
       "        vertical-align: top;\n",
       "    }\n",
       "\n",
       "    .dataframe thead th {\n",
       "        text-align: right;\n",
       "    }\n",
       "</style>\n",
       "<table border=\"1\" class=\"dataframe\">\n",
       "  <thead>\n",
       "    <tr style=\"text-align: right;\">\n",
       "      <th></th>\n",
       "      <th>anime_id</th>\n",
       "      <th>Name</th>\n",
       "      <th>Synopsis</th>\n",
       "      <th>Genres</th>\n",
       "      <th>Type</th>\n",
       "      <th>Studios</th>\n",
       "      <th>Rating</th>\n",
       "    </tr>\n",
       "  </thead>\n",
       "  <tbody>\n",
       "    <tr>\n",
       "      <th>0</th>\n",
       "      <td>1</td>\n",
       "      <td>Cowboy Bebop</td>\n",
       "      <td>Crime is timeless. By the year 2071, humanity ...</td>\n",
       "      <td>[Action, Award Winning, Sci-Fi]</td>\n",
       "      <td>[TV]</td>\n",
       "      <td>[Sunrise]</td>\n",
       "      <td>[R - 17+ (violence &amp; profanity)]</td>\n",
       "    </tr>\n",
       "    <tr>\n",
       "      <th>1</th>\n",
       "      <td>5</td>\n",
       "      <td>Cowboy Bebop: Tengoku no Tobira</td>\n",
       "      <td>Another day, another bounty—such is the life o...</td>\n",
       "      <td>[Action, Sci-Fi]</td>\n",
       "      <td>[Movie]</td>\n",
       "      <td>[Bones]</td>\n",
       "      <td>[R - 17+ (violence &amp; profanity)]</td>\n",
       "    </tr>\n",
       "    <tr>\n",
       "      <th>2</th>\n",
       "      <td>6</td>\n",
       "      <td>Trigun</td>\n",
       "      <td>Vash the Stampede is the man with a $$60,000,0...</td>\n",
       "      <td>[Action, Adventure, Sci-Fi]</td>\n",
       "      <td>[TV]</td>\n",
       "      <td>[Madhouse]</td>\n",
       "      <td>[PG-13 - Teens 13 or older]</td>\n",
       "    </tr>\n",
       "    <tr>\n",
       "      <th>3</th>\n",
       "      <td>7</td>\n",
       "      <td>Witch Hunter Robin</td>\n",
       "      <td>Robin Sena is a powerful craft user drafted in...</td>\n",
       "      <td>[Action, Drama, Mystery, Supernatural]</td>\n",
       "      <td>[TV]</td>\n",
       "      <td>[Sunrise]</td>\n",
       "      <td>[PG-13 - Teens 13 or older]</td>\n",
       "    </tr>\n",
       "    <tr>\n",
       "      <th>4</th>\n",
       "      <td>8</td>\n",
       "      <td>Bouken Ou Beet</td>\n",
       "      <td>It is the dark century and the people are suff...</td>\n",
       "      <td>[Adventure, Fantasy, Supernatural]</td>\n",
       "      <td>[TV]</td>\n",
       "      <td>[Toei Animation]</td>\n",
       "      <td>[PG - Children]</td>\n",
       "    </tr>\n",
       "  </tbody>\n",
       "</table>\n",
       "</div>"
      ],
      "text/plain": [
       "   anime_id                             Name  \\\n",
       "0         1                     Cowboy Bebop   \n",
       "1         5  Cowboy Bebop: Tengoku no Tobira   \n",
       "2         6                           Trigun   \n",
       "3         7               Witch Hunter Robin   \n",
       "4         8                   Bouken Ou Beet   \n",
       "\n",
       "                                            Synopsis  \\\n",
       "0  Crime is timeless. By the year 2071, humanity ...   \n",
       "1  Another day, another bounty—such is the life o...   \n",
       "2  Vash the Stampede is the man with a $$60,000,0...   \n",
       "3  Robin Sena is a powerful craft user drafted in...   \n",
       "4  It is the dark century and the people are suff...   \n",
       "\n",
       "                                   Genres     Type           Studios  \\\n",
       "0         [Action, Award Winning, Sci-Fi]     [TV]         [Sunrise]   \n",
       "1                        [Action, Sci-Fi]  [Movie]           [Bones]   \n",
       "2             [Action, Adventure, Sci-Fi]     [TV]        [Madhouse]   \n",
       "3  [Action, Drama, Mystery, Supernatural]     [TV]         [Sunrise]   \n",
       "4      [Adventure, Fantasy, Supernatural]     [TV]  [Toei Animation]   \n",
       "\n",
       "                             Rating  \n",
       "0  [R - 17+ (violence & profanity)]  \n",
       "1  [R - 17+ (violence & profanity)]  \n",
       "2       [PG-13 - Teens 13 or older]  \n",
       "3       [PG-13 - Teens 13 or older]  \n",
       "4                   [PG - Children]  "
      ]
     },
     "execution_count": 10,
     "metadata": {},
     "output_type": "execute_result"
    }
   ],
   "source": [
    "anime.head()"
   ]
  },
  {
   "cell_type": "code",
   "execution_count": 11,
   "id": "47d0599f",
   "metadata": {
    "papermill": {
     "duration": 0.023615,
     "end_time": "2024-11-12T19:09:59.311660",
     "exception": false,
     "start_time": "2024-11-12T19:09:59.288045",
     "status": "completed"
    },
    "tags": []
   },
   "outputs": [],
   "source": [
    "def collapse(L):\n",
    "    L1 = []\n",
    "    for i in L:\n",
    "        L1.append(i.replace(\" \",\"\"))\n",
    "    return L1"
   ]
  },
  {
   "cell_type": "code",
   "execution_count": 12,
   "id": "badee07a",
   "metadata": {
    "papermill": {
     "duration": 0.185831,
     "end_time": "2024-11-12T19:09:59.511395",
     "exception": false,
     "start_time": "2024-11-12T19:09:59.325564",
     "status": "completed"
    },
    "tags": []
   },
   "outputs": [],
   "source": [
    "anime['Genres']=anime['Genres'].apply(collapse)\n",
    "anime['Studios']=anime['Studios'].apply(collapse)\n",
    "anime['Rating']=anime['Rating'].apply(collapse)"
   ]
  },
  {
   "cell_type": "code",
   "execution_count": 13,
   "id": "31389619",
   "metadata": {
    "papermill": {
     "duration": 0.244006,
     "end_time": "2024-11-12T19:09:59.769555",
     "exception": false,
     "start_time": "2024-11-12T19:09:59.525549",
     "status": "completed"
    },
    "tags": []
   },
   "outputs": [],
   "source": [
    "anime['Synopsis'] = anime['Synopsis'].apply(lambda x:x.split())"
   ]
  },
  {
   "cell_type": "code",
   "execution_count": 14,
   "id": "2b0ef633",
   "metadata": {
    "papermill": {
     "duration": 0.465574,
     "end_time": "2024-11-12T19:10:00.249030",
     "exception": false,
     "start_time": "2024-11-12T19:09:59.783456",
     "status": "completed"
    },
    "tags": []
   },
   "outputs": [],
   "source": [
    "anime['tags'] = anime['Synopsis'] + anime['Genres'] + anime['Type'] + anime['Studios'] + anime['Rating']"
   ]
  },
  {
   "cell_type": "code",
   "execution_count": 15,
   "id": "a49455b8",
   "metadata": {
    "papermill": {
     "duration": 0.039462,
     "end_time": "2024-11-12T19:10:00.302338",
     "exception": false,
     "start_time": "2024-11-12T19:10:00.262876",
     "status": "completed"
    },
    "tags": []
   },
   "outputs": [
    {
     "data": {
      "text/html": [
       "<div>\n",
       "<style scoped>\n",
       "    .dataframe tbody tr th:only-of-type {\n",
       "        vertical-align: middle;\n",
       "    }\n",
       "\n",
       "    .dataframe tbody tr th {\n",
       "        vertical-align: top;\n",
       "    }\n",
       "\n",
       "    .dataframe thead th {\n",
       "        text-align: right;\n",
       "    }\n",
       "</style>\n",
       "<table border=\"1\" class=\"dataframe\">\n",
       "  <thead>\n",
       "    <tr style=\"text-align: right;\">\n",
       "      <th></th>\n",
       "      <th>anime_id</th>\n",
       "      <th>Name</th>\n",
       "      <th>tags</th>\n",
       "    </tr>\n",
       "  </thead>\n",
       "  <tbody>\n",
       "    <tr>\n",
       "      <th>0</th>\n",
       "      <td>1</td>\n",
       "      <td>Cowboy Bebop</td>\n",
       "      <td>[Crime, is, timeless., By, the, year, 2071,, h...</td>\n",
       "    </tr>\n",
       "    <tr>\n",
       "      <th>1</th>\n",
       "      <td>5</td>\n",
       "      <td>Cowboy Bebop: Tengoku no Tobira</td>\n",
       "      <td>[Another, day,, another, bounty—such, is, the,...</td>\n",
       "    </tr>\n",
       "    <tr>\n",
       "      <th>2</th>\n",
       "      <td>6</td>\n",
       "      <td>Trigun</td>\n",
       "      <td>[Vash, the, Stampede, is, the, man, with, a, $...</td>\n",
       "    </tr>\n",
       "    <tr>\n",
       "      <th>3</th>\n",
       "      <td>7</td>\n",
       "      <td>Witch Hunter Robin</td>\n",
       "      <td>[Robin, Sena, is, a, powerful, craft, user, dr...</td>\n",
       "    </tr>\n",
       "    <tr>\n",
       "      <th>4</th>\n",
       "      <td>8</td>\n",
       "      <td>Bouken Ou Beet</td>\n",
       "      <td>[It, is, the, dark, century, and, the, people,...</td>\n",
       "    </tr>\n",
       "  </tbody>\n",
       "</table>\n",
       "</div>"
      ],
      "text/plain": [
       "   anime_id                             Name  \\\n",
       "0         1                     Cowboy Bebop   \n",
       "1         5  Cowboy Bebop: Tengoku no Tobira   \n",
       "2         6                           Trigun   \n",
       "3         7               Witch Hunter Robin   \n",
       "4         8                   Bouken Ou Beet   \n",
       "\n",
       "                                                tags  \n",
       "0  [Crime, is, timeless., By, the, year, 2071,, h...  \n",
       "1  [Another, day,, another, bounty—such, is, the,...  \n",
       "2  [Vash, the, Stampede, is, the, man, with, a, $...  \n",
       "3  [Robin, Sena, is, a, powerful, craft, user, dr...  \n",
       "4  [It, is, the, dark, century, and, the, people,...  "
      ]
     },
     "execution_count": 15,
     "metadata": {},
     "output_type": "execute_result"
    }
   ],
   "source": [
    "new = anime.drop(columns=['Synopsis','Genres','Type','Studios','Rating'])\n",
    "new.head()"
   ]
  },
  {
   "cell_type": "code",
   "execution_count": 16,
   "id": "b1d468a6",
   "metadata": {
    "papermill": {
     "duration": 0.107358,
     "end_time": "2024-11-12T19:10:00.423725",
     "exception": false,
     "start_time": "2024-11-12T19:10:00.316367",
     "status": "completed"
    },
    "tags": []
   },
   "outputs": [
    {
     "data": {
      "text/html": [
       "<div>\n",
       "<style scoped>\n",
       "    .dataframe tbody tr th:only-of-type {\n",
       "        vertical-align: middle;\n",
       "    }\n",
       "\n",
       "    .dataframe tbody tr th {\n",
       "        vertical-align: top;\n",
       "    }\n",
       "\n",
       "    .dataframe thead th {\n",
       "        text-align: right;\n",
       "    }\n",
       "</style>\n",
       "<table border=\"1\" class=\"dataframe\">\n",
       "  <thead>\n",
       "    <tr style=\"text-align: right;\">\n",
       "      <th></th>\n",
       "      <th>anime_id</th>\n",
       "      <th>Name</th>\n",
       "      <th>tags</th>\n",
       "    </tr>\n",
       "  </thead>\n",
       "  <tbody>\n",
       "    <tr>\n",
       "      <th>0</th>\n",
       "      <td>1</td>\n",
       "      <td>Cowboy Bebop</td>\n",
       "      <td>Crime is timeless. By the year 2071, humanity ...</td>\n",
       "    </tr>\n",
       "  </tbody>\n",
       "</table>\n",
       "</div>"
      ],
      "text/plain": [
       "   anime_id          Name                                               tags\n",
       "0         1  Cowboy Bebop  Crime is timeless. By the year 2071, humanity ..."
      ]
     },
     "execution_count": 16,
     "metadata": {},
     "output_type": "execute_result"
    }
   ],
   "source": [
    "new['tags'] = new['tags'].apply(lambda x: \" \".join(x))\n",
    "new.head(1)"
   ]
  },
  {
   "cell_type": "code",
   "execution_count": 17,
   "id": "7717d507",
   "metadata": {
    "papermill": {
     "duration": 1.554947,
     "end_time": "2024-11-12T19:10:01.993018",
     "exception": false,
     "start_time": "2024-11-12T19:10:00.438071",
     "status": "completed"
    },
    "tags": []
   },
   "outputs": [],
   "source": [
    "from sklearn.feature_extraction.text import CountVectorizer\n",
    "cv = CountVectorizer(max_features=5000,stop_words='english')\n",
    "    "
   ]
  },
  {
   "cell_type": "code",
   "execution_count": 18,
   "id": "4b3cf607",
   "metadata": {
    "papermill": {
     "duration": 2.762586,
     "end_time": "2024-11-12T19:10:04.770751",
     "exception": false,
     "start_time": "2024-11-12T19:10:02.008165",
     "status": "completed"
    },
    "tags": []
   },
   "outputs": [],
   "source": [
    "vector = cv.fit_transform(new['tags']).toarray()"
   ]
  },
  {
   "cell_type": "code",
   "execution_count": 19,
   "id": "07e4dbd0",
   "metadata": {
    "papermill": {
     "duration": 0.025059,
     "end_time": "2024-11-12T19:10:04.809984",
     "exception": false,
     "start_time": "2024-11-12T19:10:04.784925",
     "status": "completed"
    },
    "tags": []
   },
   "outputs": [
    {
     "data": {
      "text/plain": [
       "(24905, 5000)"
      ]
     },
     "execution_count": 19,
     "metadata": {},
     "output_type": "execute_result"
    }
   ],
   "source": [
    "vector.shape"
   ]
  },
  {
   "cell_type": "code",
   "execution_count": 20,
   "id": "ba9e2a83",
   "metadata": {
    "papermill": {
     "duration": 0.123022,
     "end_time": "2024-11-12T19:10:04.947486",
     "exception": false,
     "start_time": "2024-11-12T19:10:04.824464",
     "status": "completed"
    },
    "tags": []
   },
   "outputs": [],
   "source": [
    "from sklearn.metrics.pairwise import cosine_similarity"
   ]
  },
  {
   "cell_type": "code",
   "execution_count": 21,
   "id": "b7f101a0",
   "metadata": {
    "papermill": {
     "duration": 52.993854,
     "end_time": "2024-11-12T19:10:57.956210",
     "exception": false,
     "start_time": "2024-11-12T19:10:04.962356",
     "status": "completed"
    },
    "tags": []
   },
   "outputs": [],
   "source": [
    "similarity = cosine_similarity(vector)"
   ]
  },
  {
   "cell_type": "code",
   "execution_count": 22,
   "id": "f378a121",
   "metadata": {
    "papermill": {
     "duration": 0.026737,
     "end_time": "2024-11-12T19:10:57.997542",
     "exception": false,
     "start_time": "2024-11-12T19:10:57.970805",
     "status": "completed"
    },
    "tags": []
   },
   "outputs": [
    {
     "data": {
      "text/plain": [
       "array([[1.        , 0.25139666, 0.1367753 , ..., 0.09078413, 0.        ,\n",
       "        0.        ],\n",
       "       [0.25139666, 1.        , 0.15201725, ..., 0.13453456, 0.        ,\n",
       "        0.        ],\n",
       "       [0.1367753 , 0.15201725, 1.        , ..., 0.22124884, 0.09482093,\n",
       "        0.09482093],\n",
       "       ...,\n",
       "       [0.09078413, 0.13453456, 0.22124884, ..., 1.        , 0.38461538,\n",
       "        0.38461538],\n",
       "       [0.        , 0.        , 0.09482093, ..., 0.38461538, 1.        ,\n",
       "        1.        ],\n",
       "       [0.        , 0.        , 0.09482093, ..., 0.38461538, 1.        ,\n",
       "        1.        ]], shape=(24905, 24905))"
      ]
     },
     "execution_count": 22,
     "metadata": {},
     "output_type": "execute_result"
    }
   ],
   "source": [
    "similarity"
   ]
  },
  {
   "cell_type": "code",
   "execution_count": 23,
   "id": "3839af0e",
   "metadata": {
    "papermill": {
     "duration": 0.033481,
     "end_time": "2024-11-12T19:10:58.046296",
     "exception": false,
     "start_time": "2024-11-12T19:10:58.012815",
     "status": "completed"
    },
    "tags": []
   },
   "outputs": [
    {
     "data": {
      "text/plain": [
       "np.int64(16234)"
      ]
     },
     "execution_count": 23,
     "metadata": {},
     "output_type": "execute_result"
    }
   ],
   "source": [
    "new[new['Name'] == 'Overflow'].index[0]"
   ]
  },
  {
   "cell_type": "code",
   "execution_count": 24,
   "id": "51541beb",
   "metadata": {
    "papermill": {
     "duration": 0.026816,
     "end_time": "2024-11-12T19:10:58.088001",
     "exception": false,
     "start_time": "2024-11-12T19:10:58.061185",
     "status": "completed"
    },
    "tags": []
   },
   "outputs": [],
   "source": [
    "def recommend(anime):\n",
    "    index = new[new['Name'] == anime].index[0]\n",
    "    distances = sorted(list(enumerate(similarity[index])),reverse=True,key = lambda x: x[1])\n",
    "    for i in distances[1:6]:\n",
    "        print(new.iloc[i[0]].Name)\n",
    "        \n",
    "    "
   ]
  },
  {
   "cell_type": "code",
   "execution_count": 25,
   "id": "c001b723",
   "metadata": {
    "papermill": {
     "duration": 0.062601,
     "end_time": "2024-11-12T19:10:58.165497",
     "exception": false,
     "start_time": "2024-11-12T19:10:58.102896",
     "status": "completed"
    },
    "tags": []
   },
   "outputs": [
    {
     "name": "stdout",
     "output_type": "stream",
     "text": [
      "One Piece: Episode of East Blue - Luffy to 4-nin no Nakama no Daibouken\n",
      "One Piece: Romance Dawn Story\n",
      "One Piece Film: Strong World\n",
      "One Piece Movie 14: Stampede\n",
      "One Piece: Oounabara ni Hirake! Dekkai Dekkai Chichi no Yume!\n"
     ]
    }
   ],
   "source": [
    "recommend('One Piece')"
   ]
  },
  {
   "cell_type": "code",
   "execution_count": 26,
   "id": "3081ab70",
   "metadata": {
    "papermill": {
     "duration": 0.024312,
     "end_time": "2024-11-12T19:10:58.204743",
     "exception": false,
     "start_time": "2024-11-12T19:10:58.180431",
     "status": "completed"
    },
    "tags": []
   },
   "outputs": [],
   "source": [
    "import pickle"
   ]
  },
  {
   "cell_type": "code",
   "execution_count": 27,
   "id": "e30069a8",
   "metadata": {
    "papermill": {
     "duration": 13.926044,
     "end_time": "2024-11-12T19:11:12.146092",
     "exception": false,
     "start_time": "2024-11-12T19:10:58.220048",
     "status": "completed"
    },
    "tags": []
   },
   "outputs": [],
   "source": [
    "pickle.dump(new,open('anime_list.pkl','wb'))\n",
    "pickle.dump(similarity,open('similarity.pkl','wb'))"
   ]
  },
  {
   "cell_type": "markdown",
   "id": "047244d0-0dcc-42e6-acaf-dd735fdb7a01",
   "metadata": {
    "papermill": {
     "duration": 0.188645,
     "end_time": "2024-11-12T19:11:17.309670",
     "exception": false,
     "start_time": "2024-11-12T19:11:17.121025",
     "status": "completed"
    },
    "tags": []
   },
   "source": [
    "# Colaborative Filtering "
   ]
  },
  {
   "cell_type": "code",
   "execution_count": 29,
   "id": "1eabd1af",
   "metadata": {
    "papermill": {
     "duration": 44.975667,
     "end_time": "2024-11-12T19:12:02.448618",
     "exception": false,
     "start_time": "2024-11-12T19:11:17.472951",
     "status": "completed"
    },
    "tags": []
   },
   "outputs": [],
   "source": [
    "users_with_rating = pd.read_csv('Data/users-score-2023.csv')"
   ]
  },
  {
   "cell_type": "code",
   "execution_count": 30,
   "id": "39c495e5",
   "metadata": {
    "papermill": {
     "duration": 0.040127,
     "end_time": "2024-11-12T19:12:02.511266",
     "exception": false,
     "start_time": "2024-11-12T19:12:02.471139",
     "status": "completed"
    },
    "tags": []
   },
   "outputs": [
    {
     "data": {
      "text/html": [
       "<div>\n",
       "<style scoped>\n",
       "    .dataframe tbody tr th:only-of-type {\n",
       "        vertical-align: middle;\n",
       "    }\n",
       "\n",
       "    .dataframe tbody tr th {\n",
       "        vertical-align: top;\n",
       "    }\n",
       "\n",
       "    .dataframe thead th {\n",
       "        text-align: right;\n",
       "    }\n",
       "</style>\n",
       "<table border=\"1\" class=\"dataframe\">\n",
       "  <thead>\n",
       "    <tr style=\"text-align: right;\">\n",
       "      <th></th>\n",
       "      <th>user_id</th>\n",
       "      <th>Username</th>\n",
       "      <th>anime_id</th>\n",
       "      <th>Anime Title</th>\n",
       "      <th>rating</th>\n",
       "    </tr>\n",
       "  </thead>\n",
       "  <tbody>\n",
       "    <tr>\n",
       "      <th>0</th>\n",
       "      <td>1</td>\n",
       "      <td>Xinil</td>\n",
       "      <td>21</td>\n",
       "      <td>One Piece</td>\n",
       "      <td>9</td>\n",
       "    </tr>\n",
       "    <tr>\n",
       "      <th>1</th>\n",
       "      <td>1</td>\n",
       "      <td>Xinil</td>\n",
       "      <td>48</td>\n",
       "      <td>.hack//Sign</td>\n",
       "      <td>7</td>\n",
       "    </tr>\n",
       "    <tr>\n",
       "      <th>2</th>\n",
       "      <td>1</td>\n",
       "      <td>Xinil</td>\n",
       "      <td>320</td>\n",
       "      <td>A Kite</td>\n",
       "      <td>5</td>\n",
       "    </tr>\n",
       "    <tr>\n",
       "      <th>3</th>\n",
       "      <td>1</td>\n",
       "      <td>Xinil</td>\n",
       "      <td>49</td>\n",
       "      <td>Aa! Megami-sama!</td>\n",
       "      <td>8</td>\n",
       "    </tr>\n",
       "    <tr>\n",
       "      <th>4</th>\n",
       "      <td>1</td>\n",
       "      <td>Xinil</td>\n",
       "      <td>304</td>\n",
       "      <td>Aa! Megami-sama! Movie</td>\n",
       "      <td>8</td>\n",
       "    </tr>\n",
       "  </tbody>\n",
       "</table>\n",
       "</div>"
      ],
      "text/plain": [
       "   user_id Username  anime_id             Anime Title  rating\n",
       "0        1    Xinil        21               One Piece       9\n",
       "1        1    Xinil        48             .hack//Sign       7\n",
       "2        1    Xinil       320                  A Kite       5\n",
       "3        1    Xinil        49        Aa! Megami-sama!       8\n",
       "4        1    Xinil       304  Aa! Megami-sama! Movie       8"
      ]
     },
     "execution_count": 30,
     "metadata": {},
     "output_type": "execute_result"
    }
   ],
   "source": [
    "users_with_rating.head()"
   ]
  },
  {
   "cell_type": "code",
   "execution_count": 31,
   "id": "485fbc6b",
   "metadata": {
    "papermill": {
     "duration": 0.026142,
     "end_time": "2024-11-12T19:12:02.552594",
     "exception": false,
     "start_time": "2024-11-12T19:12:02.526452",
     "status": "completed"
    },
    "tags": []
   },
   "outputs": [
    {
     "name": "stdout",
     "output_type": "stream",
     "text": [
      "(24325191, 5)\n"
     ]
    }
   ],
   "source": [
    "print(users_with_rating.shape)"
   ]
  },
  {
   "cell_type": "code",
   "execution_count": 32,
   "id": "e3062695",
   "metadata": {
    "papermill": {
     "duration": 5.354328,
     "end_time": "2024-11-12T19:12:07.922287",
     "exception": false,
     "start_time": "2024-11-12T19:12:02.567959",
     "status": "completed"
    },
    "tags": []
   },
   "outputs": [
    {
     "data": {
      "text/plain": [
       "user_id          0\n",
       "Username       232\n",
       "anime_id         0\n",
       "Anime Title      0\n",
       "rating           0\n",
       "dtype: int64"
      ]
     },
     "execution_count": 32,
     "metadata": {},
     "output_type": "execute_result"
    }
   ],
   "source": [
    "users_with_rating.isnull().sum()"
   ]
  },
  {
   "cell_type": "code",
   "execution_count": 33,
   "id": "5e071276",
   "metadata": {
    "papermill": {
     "duration": 20.505434,
     "end_time": "2024-11-12T19:12:28.443383",
     "exception": false,
     "start_time": "2024-11-12T19:12:07.937949",
     "status": "completed"
    },
    "tags": []
   },
   "outputs": [
    {
     "data": {
      "text/plain": [
       "np.int64(0)"
      ]
     },
     "execution_count": 33,
     "metadata": {},
     "output_type": "execute_result"
    }
   ],
   "source": [
    "users_with_rating.duplicated().sum()"
   ]
  },
  {
   "cell_type": "code",
   "execution_count": 34,
   "id": "6dcab475",
   "metadata": {
    "papermill": {
     "duration": 6.024252,
     "end_time": "2024-11-12T19:12:34.483224",
     "exception": false,
     "start_time": "2024-11-12T19:12:28.458972",
     "status": "completed"
    },
    "tags": []
   },
   "outputs": [],
   "source": [
    "#Segregating users and anime to be used\n",
    "x = users_with_rating.groupby('user_id').count()['rating'] > 200\n",
    "experienced_users = x[x].index"
   ]
  },
  {
   "cell_type": "code",
   "execution_count": 35,
   "id": "4580fa27",
   "metadata": {
    "papermill": {
     "duration": 5.137819,
     "end_time": "2024-11-12T19:12:39.636813",
     "exception": false,
     "start_time": "2024-11-12T19:12:34.498994",
     "status": "completed"
    },
    "tags": []
   },
   "outputs": [],
   "source": [
    "filtered_rating = users_with_rating[users_with_rating['user_id'].isin(experienced_users)]\n",
    "y = filtered_rating.groupby('Anime Title').count()['rating']>=50\n",
    "famous_anime = y[y].index"
   ]
  },
  {
   "cell_type": "code",
   "execution_count": 36,
   "id": "d57ab4cf",
   "metadata": {
    "papermill": {
     "duration": 35.032608,
     "end_time": "2024-11-12T19:13:14.685447",
     "exception": false,
     "start_time": "2024-11-12T19:12:39.652839",
     "status": "completed"
    },
    "tags": []
   },
   "outputs": [
    {
     "data": {
      "text/html": [
       "<div>\n",
       "<style scoped>\n",
       "    .dataframe tbody tr th:only-of-type {\n",
       "        vertical-align: middle;\n",
       "    }\n",
       "\n",
       "    .dataframe tbody tr th {\n",
       "        vertical-align: top;\n",
       "    }\n",
       "\n",
       "    .dataframe thead th {\n",
       "        text-align: right;\n",
       "    }\n",
       "</style>\n",
       "<table border=\"1\" class=\"dataframe\">\n",
       "  <thead>\n",
       "    <tr style=\"text-align: right;\">\n",
       "      <th>user_id</th>\n",
       "      <th>1</th>\n",
       "      <th>4</th>\n",
       "      <th>23</th>\n",
       "      <th>48</th>\n",
       "      <th>88</th>\n",
       "      <th>119</th>\n",
       "      <th>133</th>\n",
       "      <th>138</th>\n",
       "      <th>157</th>\n",
       "      <th>162</th>\n",
       "      <th>...</th>\n",
       "      <th>1290921</th>\n",
       "      <th>1290935</th>\n",
       "      <th>1290951</th>\n",
       "      <th>1290975</th>\n",
       "      <th>1290985</th>\n",
       "      <th>1291017</th>\n",
       "      <th>1291029</th>\n",
       "      <th>1291049</th>\n",
       "      <th>1291057</th>\n",
       "      <th>1291087</th>\n",
       "    </tr>\n",
       "    <tr>\n",
       "      <th>Anime Title</th>\n",
       "      <th></th>\n",
       "      <th></th>\n",
       "      <th></th>\n",
       "      <th></th>\n",
       "      <th></th>\n",
       "      <th></th>\n",
       "      <th></th>\n",
       "      <th></th>\n",
       "      <th></th>\n",
       "      <th></th>\n",
       "      <th></th>\n",
       "      <th></th>\n",
       "      <th></th>\n",
       "      <th></th>\n",
       "      <th></th>\n",
       "      <th></th>\n",
       "      <th></th>\n",
       "      <th></th>\n",
       "      <th></th>\n",
       "      <th></th>\n",
       "      <th></th>\n",
       "    </tr>\n",
       "  </thead>\n",
       "  <tbody>\n",
       "    <tr>\n",
       "      <th>\"0\"</th>\n",
       "      <td>0.0</td>\n",
       "      <td>0.0</td>\n",
       "      <td>0.0</td>\n",
       "      <td>0.0</td>\n",
       "      <td>0.0</td>\n",
       "      <td>0.0</td>\n",
       "      <td>0.0</td>\n",
       "      <td>0.0</td>\n",
       "      <td>0.0</td>\n",
       "      <td>0.0</td>\n",
       "      <td>...</td>\n",
       "      <td>0.0</td>\n",
       "      <td>0.0</td>\n",
       "      <td>0.0</td>\n",
       "      <td>0.0</td>\n",
       "      <td>0.0</td>\n",
       "      <td>0.0</td>\n",
       "      <td>0.0</td>\n",
       "      <td>0.0</td>\n",
       "      <td>0.0</td>\n",
       "      <td>0.0</td>\n",
       "    </tr>\n",
       "    <tr>\n",
       "      <th>\"Bungaku Shoujo\" Kyou no Oyatsu: Hatsukoi</th>\n",
       "      <td>0.0</td>\n",
       "      <td>0.0</td>\n",
       "      <td>0.0</td>\n",
       "      <td>0.0</td>\n",
       "      <td>0.0</td>\n",
       "      <td>0.0</td>\n",
       "      <td>0.0</td>\n",
       "      <td>0.0</td>\n",
       "      <td>0.0</td>\n",
       "      <td>0.0</td>\n",
       "      <td>...</td>\n",
       "      <td>0.0</td>\n",
       "      <td>0.0</td>\n",
       "      <td>0.0</td>\n",
       "      <td>6.0</td>\n",
       "      <td>5.0</td>\n",
       "      <td>0.0</td>\n",
       "      <td>0.0</td>\n",
       "      <td>0.0</td>\n",
       "      <td>0.0</td>\n",
       "      <td>0.0</td>\n",
       "    </tr>\n",
       "    <tr>\n",
       "      <th>\"Bungaku Shoujo\" Memoire</th>\n",
       "      <td>0.0</td>\n",
       "      <td>0.0</td>\n",
       "      <td>0.0</td>\n",
       "      <td>0.0</td>\n",
       "      <td>0.0</td>\n",
       "      <td>0.0</td>\n",
       "      <td>0.0</td>\n",
       "      <td>0.0</td>\n",
       "      <td>0.0</td>\n",
       "      <td>0.0</td>\n",
       "      <td>...</td>\n",
       "      <td>0.0</td>\n",
       "      <td>0.0</td>\n",
       "      <td>0.0</td>\n",
       "      <td>6.0</td>\n",
       "      <td>3.0</td>\n",
       "      <td>0.0</td>\n",
       "      <td>0.0</td>\n",
       "      <td>0.0</td>\n",
       "      <td>0.0</td>\n",
       "      <td>0.0</td>\n",
       "    </tr>\n",
       "    <tr>\n",
       "      <th>\"Bungaku Shoujo\" Movie</th>\n",
       "      <td>0.0</td>\n",
       "      <td>0.0</td>\n",
       "      <td>0.0</td>\n",
       "      <td>8.0</td>\n",
       "      <td>0.0</td>\n",
       "      <td>0.0</td>\n",
       "      <td>0.0</td>\n",
       "      <td>0.0</td>\n",
       "      <td>0.0</td>\n",
       "      <td>0.0</td>\n",
       "      <td>...</td>\n",
       "      <td>0.0</td>\n",
       "      <td>0.0</td>\n",
       "      <td>0.0</td>\n",
       "      <td>6.0</td>\n",
       "      <td>5.0</td>\n",
       "      <td>0.0</td>\n",
       "      <td>0.0</td>\n",
       "      <td>0.0</td>\n",
       "      <td>0.0</td>\n",
       "      <td>0.0</td>\n",
       "    </tr>\n",
       "    <tr>\n",
       "      <th>\"Eiji\"</th>\n",
       "      <td>0.0</td>\n",
       "      <td>0.0</td>\n",
       "      <td>0.0</td>\n",
       "      <td>0.0</td>\n",
       "      <td>0.0</td>\n",
       "      <td>0.0</td>\n",
       "      <td>0.0</td>\n",
       "      <td>0.0</td>\n",
       "      <td>0.0</td>\n",
       "      <td>0.0</td>\n",
       "      <td>...</td>\n",
       "      <td>0.0</td>\n",
       "      <td>0.0</td>\n",
       "      <td>0.0</td>\n",
       "      <td>0.0</td>\n",
       "      <td>0.0</td>\n",
       "      <td>0.0</td>\n",
       "      <td>0.0</td>\n",
       "      <td>0.0</td>\n",
       "      <td>0.0</td>\n",
       "      <td>0.0</td>\n",
       "    </tr>\n",
       "    <tr>\n",
       "      <th>...</th>\n",
       "      <td>...</td>\n",
       "      <td>...</td>\n",
       "      <td>...</td>\n",
       "      <td>...</td>\n",
       "      <td>...</td>\n",
       "      <td>...</td>\n",
       "      <td>...</td>\n",
       "      <td>...</td>\n",
       "      <td>...</td>\n",
       "      <td>...</td>\n",
       "      <td>...</td>\n",
       "      <td>...</td>\n",
       "      <td>...</td>\n",
       "      <td>...</td>\n",
       "      <td>...</td>\n",
       "      <td>...</td>\n",
       "      <td>...</td>\n",
       "      <td>...</td>\n",
       "      <td>...</td>\n",
       "      <td>...</td>\n",
       "      <td>...</td>\n",
       "    </tr>\n",
       "    <tr>\n",
       "      <th>xxxHOLiC Rou</th>\n",
       "      <td>0.0</td>\n",
       "      <td>0.0</td>\n",
       "      <td>0.0</td>\n",
       "      <td>0.0</td>\n",
       "      <td>0.0</td>\n",
       "      <td>0.0</td>\n",
       "      <td>0.0</td>\n",
       "      <td>0.0</td>\n",
       "      <td>0.0</td>\n",
       "      <td>0.0</td>\n",
       "      <td>...</td>\n",
       "      <td>0.0</td>\n",
       "      <td>0.0</td>\n",
       "      <td>0.0</td>\n",
       "      <td>0.0</td>\n",
       "      <td>0.0</td>\n",
       "      <td>0.0</td>\n",
       "      <td>9.0</td>\n",
       "      <td>0.0</td>\n",
       "      <td>0.0</td>\n",
       "      <td>0.0</td>\n",
       "    </tr>\n",
       "    <tr>\n",
       "      <th>xxxHOLiC Shunmuki</th>\n",
       "      <td>0.0</td>\n",
       "      <td>0.0</td>\n",
       "      <td>0.0</td>\n",
       "      <td>0.0</td>\n",
       "      <td>0.0</td>\n",
       "      <td>0.0</td>\n",
       "      <td>0.0</td>\n",
       "      <td>0.0</td>\n",
       "      <td>0.0</td>\n",
       "      <td>0.0</td>\n",
       "      <td>...</td>\n",
       "      <td>0.0</td>\n",
       "      <td>0.0</td>\n",
       "      <td>0.0</td>\n",
       "      <td>0.0</td>\n",
       "      <td>0.0</td>\n",
       "      <td>0.0</td>\n",
       "      <td>0.0</td>\n",
       "      <td>0.0</td>\n",
       "      <td>0.0</td>\n",
       "      <td>0.0</td>\n",
       "    </tr>\n",
       "    <tr>\n",
       "      <th>xxxHOLiC◆Kei</th>\n",
       "      <td>0.0</td>\n",
       "      <td>0.0</td>\n",
       "      <td>0.0</td>\n",
       "      <td>6.0</td>\n",
       "      <td>0.0</td>\n",
       "      <td>8.0</td>\n",
       "      <td>0.0</td>\n",
       "      <td>0.0</td>\n",
       "      <td>0.0</td>\n",
       "      <td>0.0</td>\n",
       "      <td>...</td>\n",
       "      <td>0.0</td>\n",
       "      <td>0.0</td>\n",
       "      <td>0.0</td>\n",
       "      <td>0.0</td>\n",
       "      <td>0.0</td>\n",
       "      <td>0.0</td>\n",
       "      <td>10.0</td>\n",
       "      <td>0.0</td>\n",
       "      <td>0.0</td>\n",
       "      <td>0.0</td>\n",
       "    </tr>\n",
       "    <tr>\n",
       "      <th>ēlDLIVE</th>\n",
       "      <td>0.0</td>\n",
       "      <td>0.0</td>\n",
       "      <td>0.0</td>\n",
       "      <td>0.0</td>\n",
       "      <td>0.0</td>\n",
       "      <td>0.0</td>\n",
       "      <td>0.0</td>\n",
       "      <td>0.0</td>\n",
       "      <td>0.0</td>\n",
       "      <td>0.0</td>\n",
       "      <td>...</td>\n",
       "      <td>0.0</td>\n",
       "      <td>0.0</td>\n",
       "      <td>0.0</td>\n",
       "      <td>0.0</td>\n",
       "      <td>0.0</td>\n",
       "      <td>0.0</td>\n",
       "      <td>0.0</td>\n",
       "      <td>0.0</td>\n",
       "      <td>0.0</td>\n",
       "      <td>0.0</td>\n",
       "    </tr>\n",
       "    <tr>\n",
       "      <th>◯</th>\n",
       "      <td>0.0</td>\n",
       "      <td>0.0</td>\n",
       "      <td>0.0</td>\n",
       "      <td>0.0</td>\n",
       "      <td>0.0</td>\n",
       "      <td>0.0</td>\n",
       "      <td>0.0</td>\n",
       "      <td>0.0</td>\n",
       "      <td>0.0</td>\n",
       "      <td>0.0</td>\n",
       "      <td>...</td>\n",
       "      <td>0.0</td>\n",
       "      <td>0.0</td>\n",
       "      <td>0.0</td>\n",
       "      <td>0.0</td>\n",
       "      <td>0.0</td>\n",
       "      <td>0.0</td>\n",
       "      <td>0.0</td>\n",
       "      <td>0.0</td>\n",
       "      <td>0.0</td>\n",
       "      <td>0.0</td>\n",
       "    </tr>\n",
       "  </tbody>\n",
       "</table>\n",
       "<p>8936 rows × 41735 columns</p>\n",
       "</div>"
      ],
      "text/plain": [
       "user_id                                    1        4        23       48       \\\n",
       "Anime Title                                                                     \n",
       "\"0\"                                            0.0      0.0      0.0      0.0   \n",
       "\"Bungaku Shoujo\" Kyou no Oyatsu: Hatsukoi      0.0      0.0      0.0      0.0   \n",
       "\"Bungaku Shoujo\" Memoire                       0.0      0.0      0.0      0.0   \n",
       "\"Bungaku Shoujo\" Movie                         0.0      0.0      0.0      8.0   \n",
       "\"Eiji\"                                         0.0      0.0      0.0      0.0   \n",
       "...                                            ...      ...      ...      ...   \n",
       "xxxHOLiC Rou                                   0.0      0.0      0.0      0.0   \n",
       "xxxHOLiC Shunmuki                              0.0      0.0      0.0      0.0   \n",
       "xxxHOLiC◆Kei                                   0.0      0.0      0.0      6.0   \n",
       "ēlDLIVE                                        0.0      0.0      0.0      0.0   \n",
       "◯                                              0.0      0.0      0.0      0.0   \n",
       "\n",
       "user_id                                    88       119      133      138      \\\n",
       "Anime Title                                                                     \n",
       "\"0\"                                            0.0      0.0      0.0      0.0   \n",
       "\"Bungaku Shoujo\" Kyou no Oyatsu: Hatsukoi      0.0      0.0      0.0      0.0   \n",
       "\"Bungaku Shoujo\" Memoire                       0.0      0.0      0.0      0.0   \n",
       "\"Bungaku Shoujo\" Movie                         0.0      0.0      0.0      0.0   \n",
       "\"Eiji\"                                         0.0      0.0      0.0      0.0   \n",
       "...                                            ...      ...      ...      ...   \n",
       "xxxHOLiC Rou                                   0.0      0.0      0.0      0.0   \n",
       "xxxHOLiC Shunmuki                              0.0      0.0      0.0      0.0   \n",
       "xxxHOLiC◆Kei                                   0.0      8.0      0.0      0.0   \n",
       "ēlDLIVE                                        0.0      0.0      0.0      0.0   \n",
       "◯                                              0.0      0.0      0.0      0.0   \n",
       "\n",
       "user_id                                    157      162      ...  1290921  \\\n",
       "Anime Title                                                  ...            \n",
       "\"0\"                                            0.0      0.0  ...      0.0   \n",
       "\"Bungaku Shoujo\" Kyou no Oyatsu: Hatsukoi      0.0      0.0  ...      0.0   \n",
       "\"Bungaku Shoujo\" Memoire                       0.0      0.0  ...      0.0   \n",
       "\"Bungaku Shoujo\" Movie                         0.0      0.0  ...      0.0   \n",
       "\"Eiji\"                                         0.0      0.0  ...      0.0   \n",
       "...                                            ...      ...  ...      ...   \n",
       "xxxHOLiC Rou                                   0.0      0.0  ...      0.0   \n",
       "xxxHOLiC Shunmuki                              0.0      0.0  ...      0.0   \n",
       "xxxHOLiC◆Kei                                   0.0      0.0  ...      0.0   \n",
       "ēlDLIVE                                        0.0      0.0  ...      0.0   \n",
       "◯                                              0.0      0.0  ...      0.0   \n",
       "\n",
       "user_id                                    1290935  1290951  1290975  1290985  \\\n",
       "Anime Title                                                                     \n",
       "\"0\"                                            0.0      0.0      0.0      0.0   \n",
       "\"Bungaku Shoujo\" Kyou no Oyatsu: Hatsukoi      0.0      0.0      6.0      5.0   \n",
       "\"Bungaku Shoujo\" Memoire                       0.0      0.0      6.0      3.0   \n",
       "\"Bungaku Shoujo\" Movie                         0.0      0.0      6.0      5.0   \n",
       "\"Eiji\"                                         0.0      0.0      0.0      0.0   \n",
       "...                                            ...      ...      ...      ...   \n",
       "xxxHOLiC Rou                                   0.0      0.0      0.0      0.0   \n",
       "xxxHOLiC Shunmuki                              0.0      0.0      0.0      0.0   \n",
       "xxxHOLiC◆Kei                                   0.0      0.0      0.0      0.0   \n",
       "ēlDLIVE                                        0.0      0.0      0.0      0.0   \n",
       "◯                                              0.0      0.0      0.0      0.0   \n",
       "\n",
       "user_id                                    1291017  1291029  1291049  1291057  \\\n",
       "Anime Title                                                                     \n",
       "\"0\"                                            0.0      0.0      0.0      0.0   \n",
       "\"Bungaku Shoujo\" Kyou no Oyatsu: Hatsukoi      0.0      0.0      0.0      0.0   \n",
       "\"Bungaku Shoujo\" Memoire                       0.0      0.0      0.0      0.0   \n",
       "\"Bungaku Shoujo\" Movie                         0.0      0.0      0.0      0.0   \n",
       "\"Eiji\"                                         0.0      0.0      0.0      0.0   \n",
       "...                                            ...      ...      ...      ...   \n",
       "xxxHOLiC Rou                                   0.0      9.0      0.0      0.0   \n",
       "xxxHOLiC Shunmuki                              0.0      0.0      0.0      0.0   \n",
       "xxxHOLiC◆Kei                                   0.0     10.0      0.0      0.0   \n",
       "ēlDLIVE                                        0.0      0.0      0.0      0.0   \n",
       "◯                                              0.0      0.0      0.0      0.0   \n",
       "\n",
       "user_id                                    1291087  \n",
       "Anime Title                                         \n",
       "\"0\"                                            0.0  \n",
       "\"Bungaku Shoujo\" Kyou no Oyatsu: Hatsukoi      0.0  \n",
       "\"Bungaku Shoujo\" Memoire                       0.0  \n",
       "\"Bungaku Shoujo\" Movie                         0.0  \n",
       "\"Eiji\"                                         0.0  \n",
       "...                                            ...  \n",
       "xxxHOLiC Rou                                   0.0  \n",
       "xxxHOLiC Shunmuki                              0.0  \n",
       "xxxHOLiC◆Kei                                   0.0  \n",
       "ēlDLIVE                                        0.0  \n",
       "◯                                              0.0  \n",
       "\n",
       "[8936 rows x 41735 columns]"
      ]
     },
     "execution_count": 36,
     "metadata": {},
     "output_type": "execute_result"
    }
   ],
   "source": [
    "final_ratings = filtered_rating[filtered_rating['Anime Title'].isin(famous_anime)]\n",
    "pt = final_ratings.pivot_table(index='Anime Title',columns='user_id',values='rating')\n",
    "pt.fillna(0,inplace=True)\n",
    "pt\n"
   ]
  },
  {
   "cell_type": "code",
   "execution_count": 37,
   "id": "809994de",
   "metadata": {
    "papermill": {
     "duration": 57.21311,
     "end_time": "2024-11-12T19:14:11.914924",
     "exception": false,
     "start_time": "2024-11-12T19:13:14.701814",
     "status": "completed"
    },
    "tags": []
   },
   "outputs": [
    {
     "data": {
      "text/plain": [
       "(8936, 8936)"
      ]
     },
     "execution_count": 37,
     "metadata": {},
     "output_type": "execute_result"
    }
   ],
   "source": [
    "from sklearn.metrics.pairwise import cosine_similarity\n",
    "similarity_scores = cosine_similarity(pt)\n",
    "similarity_scores.shape"
   ]
  },
  {
   "cell_type": "code",
   "execution_count": 38,
   "id": "d9b8dd1f",
   "metadata": {
    "papermill": {
     "duration": 0.029463,
     "end_time": "2024-11-12T19:14:11.961479",
     "exception": false,
     "start_time": "2024-11-12T19:14:11.932016",
     "status": "completed"
    },
    "tags": []
   },
   "outputs": [],
   "source": [
    "def recommend(anime_name):\n",
    "    # index fetch\n",
    "    index = np.where(pt.index==anime_name)[0][0]\n",
    "    similar_items = sorted(list(enumerate(similarity_scores[index])),key=lambda x:x[1],reverse=True)[1:5]\n",
    "    \n",
    "    data = []\n",
    "    for i in similar_items:\n",
    "        item = []\n",
    "        temp_df = users_with_rating[users_with_rating['Anime Title'] == pt.index[i[0]]]\n",
    "        item.extend(list(temp_df.drop_duplicates('Anime Title')['Anime Title'].values))\n",
    "        \n",
    "        data.append(item)\n",
    "    \n",
    "    return data"
   ]
  },
  {
   "cell_type": "code",
   "execution_count": 39,
   "id": "f5a1292c",
   "metadata": {
    "papermill": {
     "duration": 18.239966,
     "end_time": "2024-11-12T19:14:30.218827",
     "exception": false,
     "start_time": "2024-11-12T19:14:11.978861",
     "status": "completed"
    },
    "tags": []
   },
   "outputs": [
    {
     "data": {
      "text/plain": [
       "[['Naruto: Shippuuden'], ['Bleach'], ['Death Note'], ['Fullmetal Alchemist']]"
      ]
     },
     "execution_count": 39,
     "metadata": {},
     "output_type": "execute_result"
    }
   ],
   "source": [
    "recommend('Naruto')"
   ]
  },
  {
   "cell_type": "code",
   "execution_count": 43,
   "id": "b3eb5cd8-7918-475f-962a-57e8143a9c2a",
   "metadata": {},
   "outputs": [
    {
     "name": "stdout",
     "output_type": "stream",
     "text": [
      "Saved 'anime_cleaned.csv' and 'cosine_sim.npy' successfully!\n"
     ]
    }
   ],
   "source": [
    "# Savign the names of Anime in a different df\n",
    "anime_final_df = anime[['Name']] \n",
    "# Saving it as csv\n",
    "anime_final_df.to_csv('anime_cleaned.csv', index=False)\n",
    "\n",
    "# Saving the cosine_similarity \"similarity\"\n",
    "np.save('cosine_sim.npy', similarity)\n",
    "\n",
    "print(\"Saved 'anime_cleaned.csv' and 'cosine_sim.npy' successfully!\")"
   ]
  }
 ],
 "metadata": {
  "kaggle": {
   "accelerator": "none",
   "dataSources": [
    {
     "datasetId": 3384322,
     "sourceId": 6207733,
     "sourceType": "datasetVersion"
    }
   ],
   "dockerImageVersionId": 30786,
   "isGpuEnabled": false,
   "isInternetEnabled": false,
   "language": "python",
   "sourceType": "notebook"
  },
  "kernelspec": {
   "display_name": "Python 3 (ipykernel)",
   "language": "python",
   "name": "python3"
  },
  "language_info": {
   "codemirror_mode": {
    "name": "ipython",
    "version": 3
   },
   "file_extension": ".py",
   "mimetype": "text/x-python",
   "name": "python",
   "nbconvert_exporter": "python",
   "pygments_lexer": "ipython3",
   "version": "3.11.0"
  },
  "papermill": {
   "default_parameters": {},
   "duration": 278.306939,
   "end_time": "2024-11-12T19:14:31.964988",
   "environment_variables": {},
   "exception": null,
   "input_path": "__notebook__.ipynb",
   "output_path": "__notebook__.ipynb",
   "parameters": {},
   "start_time": "2024-11-12T19:09:53.658049",
   "version": "2.6.0"
  }
 },
 "nbformat": 4,
 "nbformat_minor": 5
}
